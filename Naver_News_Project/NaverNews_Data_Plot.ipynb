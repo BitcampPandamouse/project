{
 "cells": [
  {
   "cell_type": "code",
   "execution_count": 97,
   "metadata": {},
   "outputs": [],
   "source": [
    "## 해야할 것\n",
    "## 대표 뉴스포럼을 선정하여 그 뉴스사에서 낸 것들을 데이터 분석화 할 예정\n",
    "## \n",
    "\n",
    "## 오류해결"
   ]
  },
  {
   "cell_type": "code",
   "execution_count": 98,
   "id": "8114e07d",
   "metadata": {},
   "outputs": [],
   "source": [
    "import pandas as pd\n",
    "import matplotlib.pyplot as plt\n",
    "import statsmodels.api as sm\n",
    "import seaborn as sns\n",
    "import os\n"
   ]
  },
  {
   "cell_type": "code",
   "execution_count": 99,
   "metadata": {},
   "outputs": [],
   "source": [
    "## 폰트 설치 필수 한글 다 깨져요~~!!!!\n",
    "import matplotlib.pyplot as plt\n",
    "plt.rcParams['font.family']='gulim'"
   ]
  },
  {
   "cell_type": "code",
   "execution_count": null,
   "metadata": {},
   "outputs": [],
   "source": [
    "df_makguli = pd.read_csv('data/네이버막걸리뉴스.csv')\n",
    "df_makguli = df_makguli.drop_duplicates(subset=None,keep='first',inplace=False)\n",
    "df_makguli.columns=['num','yyyymmdd','names','title','text']\n"
   ]
  },
  {
   "cell_type": "code",
   "execution_count": 100,
   "id": "9170fabe",
   "metadata": {},
   "outputs": [],
   "source": [
    "# folder=\"data\"\n",
    "# subdir_names=os.listdir(folder) \n",
    "# #subdir_names에 폴더내의 모든 파일이름이 들어간다\n",
    "# for file_name in subdir_names:\n",
    "#     csv=pd.read_csv(folder+\"\\\\\"+file_name)\n",
    "\n",
    "df = pd.read_csv('data/네이버막걸리뉴스.csv')\n",
    "df_soju = pd.read_csv('data/네이버소주뉴스.csv')\n",
    "df_gorangju = pd.read_csv('data/네이버고량주뉴스.csv')\n",
    "df_juntongju = pd.read_csv('data/네이버전통주.csv')"
   ]
  },
  {
   "cell_type": "code",
   "execution_count": 101,
   "metadata": {},
   "outputs": [
    {
     "output_type": "execute_result",
     "data": {
      "text/plain": [
       "       Unnamed: 0            0       1  \\\n",
       "0               0  2021.01.01.     뉴스엔   \n",
       "1               1  2021.01.01.   에너지경제   \n",
       "2               2  2021.01.01.  스포츠투데이   \n",
       "3               3  2021.01.01.     뉴시스   \n",
       "4               4  2021.01.01.  농기자재신문   \n",
       "...           ...          ...     ...   \n",
       "20809       20809  2020.01.01.   스포츠동아   \n",
       "20810       20810  2020.01.01.    매일일보   \n",
       "20811       20811  2020.01.01.  아이뉴스24   \n",
       "20812       20812  2020.01.01.   헤럴드경제   \n",
       "20813       20813  2020.01.01.   헤럴드경제   \n",
       "\n",
       "                                                  2  \\\n",
       "0      손나은 “난 사이코패스였어” 은지원 소주에 소금 투척 제안 후 셀프디스(갬...   \n",
       "1      식음료 업계 ‘업뉴얼(upgade+renewal)’ 바람···\"소비자는 즐겁다\"   \n",
       "2           '수미네 반찬' 김수미 \"2021년 소의 해, 내가 소띠다\" [텔리뷰]   \n",
       "3                          식∙음료업계에 부는 '업뉴얼' 바람 '눈길'   \n",
       "4                         자연과 인간이 함께하는 세상-남보가 꿈꿉니다.   \n",
       "...                                             ...   \n",
       "20809           [TV북마크] ‘블랙독’ 라미란, 센터의 품격…내부고발 소신발언   \n",
       "20810                    유통업계 '온라인 시장' 거래 질서 확립도 필요   \n",
       "20811                    유통街, 경자년 새해 맞아 관련 상품 출시 봇물   \n",
       "20812             쉽고 확실한 새해 다이어트? “없어요…술 줄이고 운동하세요”   \n",
       "20813                   송가인 “2020 새해에도 소주는 잎새주이어라~”   \n",
       "\n",
       "                                                       3  \n",
       "0      지원 오빠 소주 마시지? 소주에 뭘 타지?\"라며 분노를 드러냈다. 이에 손나은은 \"...  \n",
       "1      하이트진로는 최근 진로 미니 팩소주를 유흥용으로 출시하고 배달, 포장용 시장 강화에...  \n",
       "2      묵은지 꼬리찜을 만들면서 김수미는 고기 잡내 제거부터 시작했다. 김수미는 \"소꼬리를...  \n",
       "3      하이트진로는 최근 진로 미니 팩소주를 유흥용으로 출시하고 배달, 포장용 시장 강화에...  \n",
       "4      친환경 농업의 리더 ‘남보’ 주요제품 히까리골드 | 공시-1-3-290 | 히까리골...  \n",
       "...                                                  ...  \n",
       "20809  성순이 하늘에게 소주잔을 먼저 건네며 어느새 이들이 서로 스며들기 시작했음을 보여주...  \n",
       "20810  주류의 경우 주류의 온라인 판매는 국민 편의와 전통주 진흥차원에서 경주교동법주·조옥...  \n",
       "20811  젊은 층을 중심으로 남들과 다른 독창적 아이템을 선호하는 트렌드가 퍼지는 가운데 자...  \n",
       "20812  소주는 한 잔(45㎖)에 63㎉, 맥주 한 잔(500㎖)은 185㎉, 와인 한 잔(...  \n",
       "20813  보해는 단풍나무 수액을 첨가한 대표소주 ‘잎새주’ 모델로 송가인을 선정한 뒤 주요 ...  \n",
       "\n",
       "[20814 rows x 5 columns]"
      ],
      "text/html": "<div>\n<style scoped>\n    .dataframe tbody tr th:only-of-type {\n        vertical-align: middle;\n    }\n\n    .dataframe tbody tr th {\n        vertical-align: top;\n    }\n\n    .dataframe thead th {\n        text-align: right;\n    }\n</style>\n<table border=\"1\" class=\"dataframe\">\n  <thead>\n    <tr style=\"text-align: right;\">\n      <th></th>\n      <th>Unnamed: 0</th>\n      <th>0</th>\n      <th>1</th>\n      <th>2</th>\n      <th>3</th>\n    </tr>\n  </thead>\n  <tbody>\n    <tr>\n      <th>0</th>\n      <td>0</td>\n      <td>2021.01.01.</td>\n      <td>뉴스엔</td>\n      <td>손나은 “난 사이코패스였어” 은지원 소주에 소금 투척 제안 후 셀프디스(갬...</td>\n      <td>지원 오빠 소주 마시지? 소주에 뭘 타지?\"라며 분노를 드러냈다. 이에 손나은은 \"...</td>\n    </tr>\n    <tr>\n      <th>1</th>\n      <td>1</td>\n      <td>2021.01.01.</td>\n      <td>에너지경제</td>\n      <td>식음료 업계 ‘업뉴얼(upgade+renewal)’ 바람···\"소비자는 즐겁다\"</td>\n      <td>하이트진로는 최근 진로 미니 팩소주를 유흥용으로 출시하고 배달, 포장용 시장 강화에...</td>\n    </tr>\n    <tr>\n      <th>2</th>\n      <td>2</td>\n      <td>2021.01.01.</td>\n      <td>스포츠투데이</td>\n      <td>'수미네 반찬' 김수미 \"2021년 소의 해, 내가 소띠다\" [텔리뷰]</td>\n      <td>묵은지 꼬리찜을 만들면서 김수미는 고기 잡내 제거부터 시작했다. 김수미는 \"소꼬리를...</td>\n    </tr>\n    <tr>\n      <th>3</th>\n      <td>3</td>\n      <td>2021.01.01.</td>\n      <td>뉴시스</td>\n      <td>식∙음료업계에 부는 '업뉴얼' 바람 '눈길'</td>\n      <td>하이트진로는 최근 진로 미니 팩소주를 유흥용으로 출시하고 배달, 포장용 시장 강화에...</td>\n    </tr>\n    <tr>\n      <th>4</th>\n      <td>4</td>\n      <td>2021.01.01.</td>\n      <td>농기자재신문</td>\n      <td>자연과 인간이 함께하는 세상-남보가 꿈꿉니다.</td>\n      <td>친환경 농업의 리더 ‘남보’ 주요제품 히까리골드 | 공시-1-3-290 | 히까리골...</td>\n    </tr>\n    <tr>\n      <th>...</th>\n      <td>...</td>\n      <td>...</td>\n      <td>...</td>\n      <td>...</td>\n      <td>...</td>\n    </tr>\n    <tr>\n      <th>20809</th>\n      <td>20809</td>\n      <td>2020.01.01.</td>\n      <td>스포츠동아</td>\n      <td>[TV북마크] ‘블랙독’ 라미란, 센터의 품격…내부고발 소신발언</td>\n      <td>성순이 하늘에게 소주잔을 먼저 건네며 어느새 이들이 서로 스며들기 시작했음을 보여주...</td>\n    </tr>\n    <tr>\n      <th>20810</th>\n      <td>20810</td>\n      <td>2020.01.01.</td>\n      <td>매일일보</td>\n      <td>유통업계 '온라인 시장' 거래 질서 확립도 필요</td>\n      <td>주류의 경우 주류의 온라인 판매는 국민 편의와 전통주 진흥차원에서 경주교동법주·조옥...</td>\n    </tr>\n    <tr>\n      <th>20811</th>\n      <td>20811</td>\n      <td>2020.01.01.</td>\n      <td>아이뉴스24</td>\n      <td>유통街, 경자년 새해 맞아 관련 상품 출시 봇물</td>\n      <td>젊은 층을 중심으로 남들과 다른 독창적 아이템을 선호하는 트렌드가 퍼지는 가운데 자...</td>\n    </tr>\n    <tr>\n      <th>20812</th>\n      <td>20812</td>\n      <td>2020.01.01.</td>\n      <td>헤럴드경제</td>\n      <td>쉽고 확실한 새해 다이어트? “없어요…술 줄이고 운동하세요”</td>\n      <td>소주는 한 잔(45㎖)에 63㎉, 맥주 한 잔(500㎖)은 185㎉, 와인 한 잔(...</td>\n    </tr>\n    <tr>\n      <th>20813</th>\n      <td>20813</td>\n      <td>2020.01.01.</td>\n      <td>헤럴드경제</td>\n      <td>송가인 “2020 새해에도 소주는 잎새주이어라~”</td>\n      <td>보해는 단풍나무 수액을 첨가한 대표소주 ‘잎새주’ 모델로 송가인을 선정한 뒤 주요 ...</td>\n    </tr>\n  </tbody>\n</table>\n<p>20814 rows × 5 columns</p>\n</div>"
     },
     "metadata": {},
     "execution_count": 101
    }
   ],
   "source": [
    "df_soju"
   ]
  },
  {
   "cell_type": "code",
   "execution_count": 102,
   "id": "d7dd2d0b",
   "metadata": {},
   "outputs": [],
   "source": [
    "## 중복값 제거\n",
    "df = df.drop_duplicates(subset=None,keep='first',inplace=False)\n"
   ]
  },
  {
   "cell_type": "code",
   "execution_count": 103,
   "id": "399f3148",
   "metadata": {},
   "outputs": [],
   "source": [
    "## colums 이름 수정\n",
    "df.columns=['num','yyyymmdd','names','title','text']\n",
    "df_soju.columns = ['num','yyyymmdd','names','title','text']\n",
    "df_gorangju.columns = ['num','yyyymmdd','names','title','text']\n"
   ]
  },
  {
   "cell_type": "code",
   "execution_count": 104,
   "metadata": {},
   "outputs": [
    {
     "output_type": "execute_result",
     "data": {
      "text/plain": [
       "     num     yyyymmdd       names  \\\n",
       "0      0  2020.12.31.         뉴스핌   \n",
       "1      1  2020.12.31.     YTN사이언스   \n",
       "2      2  2020.12.30.         뉴스핌   \n",
       "3      3  2020.12.29.       서울와이어   \n",
       "4      4  2020.12.29.         뉴스핌   \n",
       "..   ...          ...         ...   \n",
       "312  312  2020.02.04.    코리아쉬핑가제트   \n",
       "313  313  2020.02.03.  동아일보언론사 선정   \n",
       "314  314  2020.02.02.       아시아경제   \n",
       "315  315  2020.01.14.         뉴스핌   \n",
       "316  316  2020.01.14.         뉴스핌   \n",
       "\n",
       "                                                title  \\\n",
       "0              [중국 리뷰] 미증유의 대재앙,코로나19와 2020년 중국경제 <하>   \n",
       "1                                   망가진 명품가방을 살려내는 기술   \n",
       "2           [12/30 중국증시종합] 완화적 통화정책 유지, 상하이 지수 1.05%↑   \n",
       "3                     [옛날옛적 수출-33] 여공 손끝서 빚어진 최초의 억불탑   \n",
       "4    [금일 중국증시 포인트(12.29)] 고량주자동차株 강세, 의료보험 의약품 협상결...   \n",
       "..                                                ...   \n",
       "312                                    푸드톡앤톡/속풀이 해장음식   \n",
       "313              한국 맥주보다 맛있는 북한의 이것은? [송홍근 기자의 언박싱평양]   \n",
       "314                        [드링킷] '술방'만 있으면 혼술, 외롭지 않아   \n",
       "315   중국 부호들의 '라이프 스타일', 부동산 투자 선호 일본 해외 여행 1순위로 꼽...   \n",
       "316    [차이나 피플&현장] '전쟁이 빚어낸 풍요', 르뽀 대만판 마오타이 금문고량주...   \n",
       "\n",
       "                                                  text   yyyymm  \n",
       "0    [뉴스핌 베이징 = 최헌규 특파원] 10월 26일 중국 구이저우성 마오타이진에 수만...  2020.12  \n",
       "1    가죽이 구겨져 버린 명품가방, 기술자는 가방을 분리해 가죽에 고량주를 부어 불을 붙...  2020.12  \n",
       "2    섹터별로 살펴보면 전기 설비, 석탄, 비철금속, 바이주(白酒·고량주), 철강, 전력...  2020.12  \n",
       "3    \"상공부 섬유관련부서 직원들은 매일 밤 요정에서 술타령으로 밤을 지새우는 반면 다른...  2020.12  \n",
       "4    등 고량주 대표 종목 사상 최고가 경신 △ 자동차 및 자동차 부품주 강세 △ 202...  2020.12  \n",
       "..                                                 ...      ...  \n",
       "312  맥주나 막걸리처럼 속이 더부룩해지기 쉬운, 즉 소화를 지연시키는 ‘이체증’을 일으키...  2020.02  \n",
       "313  일반 주민들은 ‘감주’라고 일컫는 막걸리나 중국에서 수입한 싸구려 고량주를 주로 마...  2020.02  \n",
       "314  대학 시절 일명 '토마토(토하고 마시고 토하고)'의 삶을 살았다고 밝힌 그는 주종을...  2020.02  \n",
       "315  와인은 백주(고량주)를 제치고 3위를 기록했다. 여성 부호들은 화장품 선물 증정하는...  2020.01  \n",
       "316  금문도의 명물 금문 고량주의 기원과 번영은 금문도에 관한 한편의 서사시다. 1월 9...  2020.01  \n",
       "\n",
       "[317 rows x 6 columns]"
      ],
      "text/html": "<div>\n<style scoped>\n    .dataframe tbody tr th:only-of-type {\n        vertical-align: middle;\n    }\n\n    .dataframe tbody tr th {\n        vertical-align: top;\n    }\n\n    .dataframe thead th {\n        text-align: right;\n    }\n</style>\n<table border=\"1\" class=\"dataframe\">\n  <thead>\n    <tr style=\"text-align: right;\">\n      <th></th>\n      <th>num</th>\n      <th>yyyymmdd</th>\n      <th>names</th>\n      <th>title</th>\n      <th>text</th>\n      <th>yyyymm</th>\n    </tr>\n  </thead>\n  <tbody>\n    <tr>\n      <th>0</th>\n      <td>0</td>\n      <td>2020.12.31.</td>\n      <td>뉴스핌</td>\n      <td>[중국 리뷰] 미증유의 대재앙,코로나19와 2020년 중국경제 &lt;하&gt;</td>\n      <td>[뉴스핌 베이징 = 최헌규 특파원] 10월 26일 중국 구이저우성 마오타이진에 수만...</td>\n      <td>2020.12</td>\n    </tr>\n    <tr>\n      <th>1</th>\n      <td>1</td>\n      <td>2020.12.31.</td>\n      <td>YTN사이언스</td>\n      <td>망가진 명품가방을 살려내는 기술</td>\n      <td>가죽이 구겨져 버린 명품가방, 기술자는 가방을 분리해 가죽에 고량주를 부어 불을 붙...</td>\n      <td>2020.12</td>\n    </tr>\n    <tr>\n      <th>2</th>\n      <td>2</td>\n      <td>2020.12.30.</td>\n      <td>뉴스핌</td>\n      <td>[12/30 중국증시종합] 완화적 통화정책 유지, 상하이 지수 1.05%↑</td>\n      <td>섹터별로 살펴보면 전기 설비, 석탄, 비철금속, 바이주(白酒·고량주), 철강, 전력...</td>\n      <td>2020.12</td>\n    </tr>\n    <tr>\n      <th>3</th>\n      <td>3</td>\n      <td>2020.12.29.</td>\n      <td>서울와이어</td>\n      <td>[옛날옛적 수출-33] 여공 손끝서 빚어진 최초의 억불탑</td>\n      <td>\"상공부 섬유관련부서 직원들은 매일 밤 요정에서 술타령으로 밤을 지새우는 반면 다른...</td>\n      <td>2020.12</td>\n    </tr>\n    <tr>\n      <th>4</th>\n      <td>4</td>\n      <td>2020.12.29.</td>\n      <td>뉴스핌</td>\n      <td>[금일 중국증시 포인트(12.29)] 고량주자동차株 강세, 의료보험 의약품 협상결...</td>\n      <td>등 고량주 대표 종목 사상 최고가 경신 △ 자동차 및 자동차 부품주 강세 △ 202...</td>\n      <td>2020.12</td>\n    </tr>\n    <tr>\n      <th>...</th>\n      <td>...</td>\n      <td>...</td>\n      <td>...</td>\n      <td>...</td>\n      <td>...</td>\n      <td>...</td>\n    </tr>\n    <tr>\n      <th>312</th>\n      <td>312</td>\n      <td>2020.02.04.</td>\n      <td>코리아쉬핑가제트</td>\n      <td>푸드톡앤톡/속풀이 해장음식</td>\n      <td>맥주나 막걸리처럼 속이 더부룩해지기 쉬운, 즉 소화를 지연시키는 ‘이체증’을 일으키...</td>\n      <td>2020.02</td>\n    </tr>\n    <tr>\n      <th>313</th>\n      <td>313</td>\n      <td>2020.02.03.</td>\n      <td>동아일보언론사 선정</td>\n      <td>한국 맥주보다 맛있는 북한의 이것은? [송홍근 기자의 언박싱평양]</td>\n      <td>일반 주민들은 ‘감주’라고 일컫는 막걸리나 중국에서 수입한 싸구려 고량주를 주로 마...</td>\n      <td>2020.02</td>\n    </tr>\n    <tr>\n      <th>314</th>\n      <td>314</td>\n      <td>2020.02.02.</td>\n      <td>아시아경제</td>\n      <td>[드링킷] '술방'만 있으면 혼술, 외롭지 않아</td>\n      <td>대학 시절 일명 '토마토(토하고 마시고 토하고)'의 삶을 살았다고 밝힌 그는 주종을...</td>\n      <td>2020.02</td>\n    </tr>\n    <tr>\n      <th>315</th>\n      <td>315</td>\n      <td>2020.01.14.</td>\n      <td>뉴스핌</td>\n      <td>중국 부호들의 '라이프 스타일', 부동산 투자 선호 일본 해외 여행 1순위로 꼽...</td>\n      <td>와인은 백주(고량주)를 제치고 3위를 기록했다. 여성 부호들은 화장품 선물 증정하는...</td>\n      <td>2020.01</td>\n    </tr>\n    <tr>\n      <th>316</th>\n      <td>316</td>\n      <td>2020.01.14.</td>\n      <td>뉴스핌</td>\n      <td>[차이나 피플&amp;현장] '전쟁이 빚어낸 풍요', 르뽀 대만판 마오타이 금문고량주...</td>\n      <td>금문도의 명물 금문 고량주의 기원과 번영은 금문도에 관한 한편의 서사시다. 1월 9...</td>\n      <td>2020.01</td>\n    </tr>\n  </tbody>\n</table>\n<p>317 rows × 6 columns</p>\n</div>"
     },
     "metadata": {},
     "execution_count": 104
    }
   ],
   "source": [
    "## yyyymmdd에서 yyyy.mm의 데이터를 새로운 컬럼에 추가한다. \n",
    "## 월단위로 그룹을 지기 위해\n",
    "df['yyyymm'] = df['yyyymmdd'].apply(lambda x: x[0:7])\n",
    "df_soju['yyyymm'] = df_soju['yyyymmdd'].apply(lambda x: x[0:7])\n",
    "df_gorangju['yyyymm'] = df_gorangju['yyyymmdd'].apply(lambda x: x[0:7])\n",
    "df_gorangju\n"
   ]
  },
  {
   "cell_type": "code",
   "execution_count": 105,
   "id": "545c3540",
   "metadata": {},
   "outputs": [
    {
     "output_type": "execute_result",
     "data": {
      "text/plain": [
       "yyyymm\n",
       "2020.01     2\n",
       "2020.02     8\n",
       "2020.03     7\n",
       "2020.04    65\n",
       "2020.05    25\n",
       "2020.06    47\n",
       "2020.07    47\n",
       "2020.08    25\n",
       "2020.09    18\n",
       "2020.10    16\n",
       "2020.11    34\n",
       "2020.12    23\n",
       "dtype: int64"
      ]
     },
     "metadata": {},
     "execution_count": 105
    }
   ],
   "source": [
    "## 그룹화[].agg(카운트)\n",
    "df_groupby = df.groupby(['yyyymm']).agg('size')\n",
    "df_soju_groupby = df_soju.groupby(['yyyymm']).agg('size')\n",
    "df_gorangju_groupby = df_gorangju.groupby(['yyyymm']).agg('size')\n",
    "df_gorangju_groupby\n"
   ]
  },
  {
   "cell_type": "code",
   "execution_count": 106,
   "metadata": {},
   "outputs": [],
   "source": [
    "## 갯수를 내림차수로 정렬한다 이유!! 뉴스사를 뽑기위해? 대표 뉴스사를 추려서 \n",
    "# df_groupby.sort_values(by='yyyymm', ascending=False)[:20]"
   ]
  },
  {
   "cell_type": "code",
   "execution_count": 107,
   "id": "0da30e44",
   "metadata": {
    "tags": []
   },
   "outputs": [
    {
     "output_type": "execute_result",
     "data": {
      "text/plain": [
       "<AxesSubplot:xlabel='yyyymm'>"
      ]
     },
     "metadata": {},
     "execution_count": 107
    },
    {
     "output_type": "display_data",
     "data": {
      "text/plain": "<Figure size 432x288 with 1 Axes>",
      "image/svg+xml": "<?xml version=\"1.0\" encoding=\"utf-8\" standalone=\"no\"?>\r\n<!DOCTYPE svg PUBLIC \"-//W3C//DTD SVG 1.1//EN\"\r\n  \"http://www.w3.org/Graphics/SVG/1.1/DTD/svg11.dtd\">\r\n<!-- Created with matplotlib (https://matplotlib.org/) -->\r\n<svg height=\"260.380625pt\" version=\"1.1\" viewBox=\"0 0 379.16875 260.380625\" width=\"379.16875pt\" xmlns=\"http://www.w3.org/2000/svg\" xmlns:xlink=\"http://www.w3.org/1999/xlink\">\r\n <metadata>\r\n  <rdf:RDF xmlns:cc=\"http://creativecommons.org/ns#\" xmlns:dc=\"http://purl.org/dc/elements/1.1/\" xmlns:rdf=\"http://www.w3.org/1999/02/22-rdf-syntax-ns#\">\r\n   <cc:Work>\r\n    <dc:type rdf:resource=\"http://purl.org/dc/dcmitype/StillImage\"/>\r\n    <dc:date>2021-06-18T14:34:32.797815</dc:date>\r\n    <dc:format>image/svg+xml</dc:format>\r\n    <dc:creator>\r\n     <cc:Agent>\r\n      <dc:title>Matplotlib v3.3.4, https://matplotlib.org/</dc:title>\r\n     </cc:Agent>\r\n    </dc:creator>\r\n   </cc:Work>\r\n  </rdf:RDF>\r\n </metadata>\r\n <defs>\r\n  <style type=\"text/css\">*{stroke-linecap:butt;stroke-linejoin:round;}</style>\r\n </defs>\r\n <g id=\"figure_1\">\r\n  <g id=\"patch_1\">\r\n   <path d=\"M 0 260.380625 \r\nL 379.16875 260.380625 \r\nL 379.16875 0 \r\nL 0 0 \r\nz\r\n\" style=\"fill:none;\"/>\r\n  </g>\r\n  <g id=\"axes_1\">\r\n   <g id=\"patch_2\">\r\n    <path d=\"M 37.16875 224.64 \r\nL 371.96875 224.64 \r\nL 371.96875 7.2 \r\nL 37.16875 7.2 \r\nz\r\n\" style=\"fill:#ffffff;\"/>\r\n   </g>\r\n   <g id=\"matplotlib.axis_1\">\r\n    <g id=\"xtick_1\">\r\n     <g id=\"line2d_1\">\r\n      <defs>\r\n       <path d=\"M 0 0 \r\nL 0 3.5 \r\n\" id=\"mf93938f1ee\" style=\"stroke:#000000;stroke-width:0.8;\"/>\r\n      </defs>\r\n      <g>\r\n       <use style=\"stroke:#000000;stroke-width:0.8;\" x=\"52.386932\" xlink:href=\"#mf93938f1ee\" y=\"224.64\"/>\r\n      </g>\r\n     </g>\r\n     <g id=\"text_1\">\r\n      <!-- 2020.01 -->\r\n      <g transform=\"translate(33.490057 238.98375)scale(0.1 -0.1)\">\r\n       <defs>\r\n        <path d=\"M 28.90625 73.4375 \r\nQ 18.953125 73.4375 13.09375 67.28125 \r\nQ 7.90625 61.8125 7.90625 53.8125 \r\nL 7.90625 51.265625 \r\nQ 7.90625 49.609375 8.796875 48.640625 \r\nQ 9.671875 47.75 10.9375 47.75 \r\nQ 12.203125 47.75 13.09375 48.640625 \r\nQ 14.0625 49.515625 14.0625 50.984375 \r\nL 14.0625 53.8125 \r\nQ 14.0625 59.671875 17.78125 63.578125 \r\nQ 21.875 67.96875 28.90625 67.96875 \r\nQ 35.9375 67.96875 40.140625 63.578125 \r\nQ 43.84375 59.671875 43.84375 53.8125 \r\nQ 43.84375 46.6875 39.453125 41.703125 \r\nQ 36.03125 37.984375 26.265625 31.9375 \r\nQ 16.015625 25.78125 11.234375 18.5625 \r\nQ 5.953125 10.640625 6.0625 -0.09375 \r\nL 48.734375 -0.09375 \r\nQ 50 -0.09375 50.78125 0.78125 \r\nQ 51.5625 1.5625 51.5625 2.640625 \r\nQ 51.5625 3.8125 50.78125 4.59375 \r\nQ 50 5.375 48.734375 5.375 \r\nL 12.5 5.375 \r\nQ 13.1875 12.40625 16.5 16.890625 \r\nQ 20.3125 22.171875 30.671875 28.609375 \r\nL 32.625 29.984375 \r\nQ 42.1875 36.03125 45.21875 39.546875 \r\nQ 50 45.015625 50 53.8125 \r\nQ 50 61.8125 44.734375 67.28125 \r\nQ 38.765625 73.4375 28.90625 73.4375 \r\nz\r\n\" id=\"Gulim-50\"/>\r\n        <path d=\"M 28.71875 73.4375 \r\nQ 17.96875 73.4375 11.71875 61.8125 \r\nQ 6.15625 51.265625 6.15625 35.84375 \r\nQ 6.15625 20.515625 11.71875 9.96875 \r\nQ 17.96875 -1.765625 28.71875 -1.765625 \r\nQ 39.359375 -1.765625 45.609375 9.96875 \r\nQ 51.265625 20.515625 51.265625 35.84375 \r\nQ 51.265625 51.265625 45.609375 61.8125 \r\nQ 39.359375 73.4375 28.71875 73.4375 \r\nz\r\nM 28.71875 67.96875 \r\nQ 36.421875 67.96875 41.015625 58.015625 \r\nQ 45.125 49.03125 45.125 35.75 \r\nQ 45.125 22.65625 41.015625 13.671875 \r\nQ 36.421875 3.71875 28.71875 3.71875 \r\nQ 20.796875 3.71875 16.3125 13.671875 \r\nQ 12.3125 22.65625 12.3125 35.75 \r\nQ 12.3125 49.03125 16.3125 58.015625 \r\nQ 20.796875 67.96875 28.71875 67.96875 \r\nz\r\n\" id=\"Gulim-48\"/>\r\n        <path d=\"M 16.703125 9.28125 \r\nQ 14.15625 9.28125 12.703125 7.625 \r\nQ 11.421875 6.0625 11.421875 3.71875 \r\nQ 11.421875 1.5625 12.703125 0 \r\nQ 14.15625 -1.765625 16.703125 -1.765625 \r\nQ 19.140625 -1.765625 20.609375 0 \r\nQ 21.96875 1.5625 21.96875 3.71875 \r\nQ 21.96875 6.0625 20.609375 7.625 \r\nQ 19.140625 9.28125 16.703125 9.28125 \r\nz\r\n\" id=\"Gulim-46\"/>\r\n        <path d=\"M 16.5 56.0625 \r\nL 27.25 56.0625 \r\nL 27.25 1.859375 \r\nQ 27.25 0.203125 28.125 -0.875 \r\nQ 29 -1.765625 30.28125 -1.859375 \r\nQ 31.453125 -1.859375 32.328125 -0.875 \r\nQ 33.296875 0.09375 33.296875 1.765625 \r\nL 33.296875 71 \r\nQ 33.296875 73.53125 30.765625 73.4375 \r\nQ 28.21875 73.34375 28.125 71 \r\nQ 27.828125 65.234375 24.515625 62.703125 \r\nQ 21.6875 60.546875 16.21875 60.546875 \r\nQ 13.96875 60.546875 14.0625 58.296875 \r\nQ 14.15625 56.0625 16.5 56.0625 \r\nz\r\n\" id=\"Gulim-49\"/>\r\n       </defs>\r\n       <use xlink:href=\"#Gulim-50\"/>\r\n       <use x=\"57.421875\" xlink:href=\"#Gulim-48\"/>\r\n       <use x=\"114.84375\" xlink:href=\"#Gulim-50\"/>\r\n       <use x=\"172.265625\" xlink:href=\"#Gulim-48\"/>\r\n       <use x=\"229.6875\" xlink:href=\"#Gulim-46\"/>\r\n       <use x=\"263.085938\" xlink:href=\"#Gulim-48\"/>\r\n       <use x=\"320.507812\" xlink:href=\"#Gulim-49\"/>\r\n      </g>\r\n     </g>\r\n    </g>\r\n    <g id=\"xtick_2\">\r\n     <g id=\"line2d_2\">\r\n      <g>\r\n       <use style=\"stroke:#000000;stroke-width:0.8;\" x=\"103.114205\" xlink:href=\"#mf93938f1ee\" y=\"224.64\"/>\r\n      </g>\r\n     </g>\r\n     <g id=\"text_2\">\r\n      <!-- 2020.03 -->\r\n      <g transform=\"translate(84.21733 238.98375)scale(0.1 -0.1)\">\r\n       <defs>\r\n        <path d=\"M 28.125 73.4375 \r\nQ 18.265625 73.4375 12.5 67.484375 \r\nQ 7.328125 62.109375 7.328125 54.203125 \r\nQ 7.328125 52.734375 8.203125 51.765625 \r\nQ 8.984375 50.984375 10.25 50.984375 \r\nQ 11.421875 50.984375 12.203125 51.765625 \r\nQ 13.1875 52.734375 13.1875 54.203125 \r\nQ 13.1875 59.859375 16.796875 63.765625 \r\nQ 20.90625 67.96875 28.03125 67.96875 \r\nQ 34.96875 67.96875 39.0625 63.765625 \r\nQ 42.875 59.859375 42.875 54.203125 \r\nQ 42.875 48.734375 39.0625 44.921875 \r\nQ 35.0625 40.828125 28.03125 40.828125 \r\nL 25.296875 40.828125 \r\nQ 22.5625 40.828125 22.5625 38.1875 \r\nQ 22.5625 35.453125 25.296875 35.453125 \r\nL 28.71875 35.453125 \r\nQ 36.625 35.453125 41.3125 30.671875 \r\nQ 45.515625 26.265625 45.515625 19.625 \r\nQ 45.515625 13.28125 41.3125 8.796875 \r\nQ 36.625 3.71875 28.71875 3.71875 \r\nQ 20.796875 3.71875 16.109375 8.796875 \r\nQ 12.015625 13.28125 12.015625 19.625 \r\nL 12.015625 21.78125 \r\nQ 12.015625 23.25 11.03125 24.03125 \r\nQ 10.15625 24.703125 8.984375 24.703125 \r\nQ 7.71875 24.703125 6.84375 24.03125 \r\nQ 5.953125 23.25 5.953125 21.78125 \r\nL 5.953125 19.734375 \r\nQ 5.953125 11.03125 11.625 4.984375 \r\nQ 17.875 -1.765625 28.71875 -1.765625 \r\nQ 39.265625 -1.765625 45.609375 4.984375 \r\nQ 51.46875 11.140625 51.46875 19.734375 \r\nQ 51.46875 26.953125 47.265625 32.421875 \r\nQ 44.046875 36.53125 39.75 38.375 \r\nQ 42.875 39.75 45.515625 43.265625 \r\nQ 49.125 47.953125 49.125 54.203125 \r\nQ 49.125 62.015625 43.84375 67.484375 \r\nQ 37.984375 73.4375 28.125 73.4375 \r\nz\r\n\" id=\"Gulim-51\"/>\r\n       </defs>\r\n       <use xlink:href=\"#Gulim-50\"/>\r\n       <use x=\"57.421875\" xlink:href=\"#Gulim-48\"/>\r\n       <use x=\"114.84375\" xlink:href=\"#Gulim-50\"/>\r\n       <use x=\"172.265625\" xlink:href=\"#Gulim-48\"/>\r\n       <use x=\"229.6875\" xlink:href=\"#Gulim-46\"/>\r\n       <use x=\"263.085938\" xlink:href=\"#Gulim-48\"/>\r\n       <use x=\"320.507812\" xlink:href=\"#Gulim-51\"/>\r\n      </g>\r\n     </g>\r\n    </g>\r\n    <g id=\"xtick_3\">\r\n     <g id=\"line2d_3\">\r\n      <g>\r\n       <use style=\"stroke:#000000;stroke-width:0.8;\" x=\"153.841477\" xlink:href=\"#mf93938f1ee\" y=\"224.64\"/>\r\n      </g>\r\n     </g>\r\n     <g id=\"text_3\">\r\n      <!-- 2020.05 -->\r\n      <g transform=\"translate(134.944602 238.98375)scale(0.1 -0.1)\">\r\n       <defs>\r\n        <path d=\"M 44.828125 71.78125 \r\nL 13.671875 71.78125 \r\nL 8.59375 37.3125 \r\nQ 8.015625 34.28125 10.359375 33.203125 \r\nQ 12.703125 32.234375 14.65625 35.0625 \r\nQ 16.609375 38.09375 19.734375 39.84375 \r\nQ 23.53125 41.890625 28.125 41.890625 \r\nQ 36.140625 41.890625 40.921875 36.03125 \r\nQ 45.21875 30.671875 45.21875 22.75 \r\nQ 45.21875 15.046875 40.625 9.578125 \r\nQ 35.640625 3.71875 27.546875 3.71875 \r\nQ 21 3.71875 16.890625 6.546875 \r\nQ 12.984375 9.28125 12.015625 13.765625 \r\nQ 11.625 15.328125 10.453125 15.921875 \r\nQ 9.375 16.5 8.203125 16.21875 \r\nQ 6.9375 15.921875 6.25 14.84375 \r\nQ 5.5625 13.765625 5.953125 12.3125 \r\nQ 7.328125 5.953125 13.1875 2.046875 \r\nQ 19.046875 -1.765625 27.15625 -1.765625 \r\nQ 39.546875 -1.765625 45.90625 5.859375 \r\nQ 51.375 12.40625 51.375 22.75 \r\nQ 51.375 32.90625 45.796875 39.75 \r\nQ 39.75 47.359375 29.296875 47.359375 \r\nQ 24.90625 47.359375 21.1875 46 \r\nQ 17.671875 44.734375 15.046875 42.09375 \r\nL 18.75 66.3125 \r\nL 44.828125 66.3125 \r\nQ 46.296875 66.3125 47.265625 67.1875 \r\nQ 48.046875 67.96875 48.046875 69.046875 \r\nQ 48.046875 70.21875 47.171875 71 \r\nQ 46.296875 71.78125 44.828125 71.78125 \r\nz\r\n\" id=\"Gulim-53\"/>\r\n       </defs>\r\n       <use xlink:href=\"#Gulim-50\"/>\r\n       <use x=\"57.421875\" xlink:href=\"#Gulim-48\"/>\r\n       <use x=\"114.84375\" xlink:href=\"#Gulim-50\"/>\r\n       <use x=\"172.265625\" xlink:href=\"#Gulim-48\"/>\r\n       <use x=\"229.6875\" xlink:href=\"#Gulim-46\"/>\r\n       <use x=\"263.085938\" xlink:href=\"#Gulim-48\"/>\r\n       <use x=\"320.507812\" xlink:href=\"#Gulim-53\"/>\r\n      </g>\r\n     </g>\r\n    </g>\r\n    <g id=\"xtick_4\">\r\n     <g id=\"line2d_4\">\r\n      <g>\r\n       <use style=\"stroke:#000000;stroke-width:0.8;\" x=\"204.56875\" xlink:href=\"#mf93938f1ee\" y=\"224.64\"/>\r\n      </g>\r\n     </g>\r\n     <g id=\"text_4\">\r\n      <!-- 2020.07 -->\r\n      <g transform=\"translate(185.671875 238.98375)scale(0.1 -0.1)\">\r\n       <defs>\r\n        <path d=\"M 9.671875 66.40625 \r\nL 44.34375 66.40625 \r\nQ 33.890625 53.515625 25.59375 32.90625 \r\nQ 18.453125 15.046875 16.796875 2.34375 \r\nQ 16.5 0.59375 17.390625 -0.59375 \r\nQ 18.265625 -1.65625 19.625 -1.765625 \r\nQ 21 -1.859375 22.078125 -0.984375 \r\nQ 23.25 0.09375 23.53125 1.953125 \r\nQ 26.078125 22.46875 36.140625 42.578125 \r\nQ 43.65625 57.8125 51.171875 65.625 \r\nQ 53.03125 67.671875 52.046875 69.734375 \r\nQ 51.078125 71.78125 48.4375 71.78125 \r\nL 9.671875 71.78125 \r\nQ 6.9375 71.78125 6.9375 69.140625 \r\nQ 6.9375 66.40625 9.671875 66.40625 \r\nz\r\n\" id=\"Gulim-55\"/>\r\n       </defs>\r\n       <use xlink:href=\"#Gulim-50\"/>\r\n       <use x=\"57.421875\" xlink:href=\"#Gulim-48\"/>\r\n       <use x=\"114.84375\" xlink:href=\"#Gulim-50\"/>\r\n       <use x=\"172.265625\" xlink:href=\"#Gulim-48\"/>\r\n       <use x=\"229.6875\" xlink:href=\"#Gulim-46\"/>\r\n       <use x=\"263.085938\" xlink:href=\"#Gulim-48\"/>\r\n       <use x=\"320.507812\" xlink:href=\"#Gulim-55\"/>\r\n      </g>\r\n     </g>\r\n    </g>\r\n    <g id=\"xtick_5\">\r\n     <g id=\"line2d_5\">\r\n      <g>\r\n       <use style=\"stroke:#000000;stroke-width:0.8;\" x=\"255.296023\" xlink:href=\"#mf93938f1ee\" y=\"224.64\"/>\r\n      </g>\r\n     </g>\r\n     <g id=\"text_5\">\r\n      <!-- 2020.09 -->\r\n      <g transform=\"translate(236.399148 238.98375)scale(0.1 -0.1)\">\r\n       <defs>\r\n        <path d=\"M 45.40625 48.640625 \r\nQ 45.40625 41.21875 40.53125 36.234375 \r\nQ 35.640625 31.15625 28.328125 31.15625 \r\nQ 20.125 31.15625 15.828125 36.625 \r\nQ 12.203125 41.21875 12.203125 48.53125 \r\nQ 12.203125 57.515625 16.703125 62.796875 \r\nQ 21.09375 67.96875 28.609375 67.96875 \r\nQ 36.625 67.96875 41.21875 62.203125 \r\nQ 45.40625 56.9375 45.40625 48.640625 \r\nz\r\nM 26.46875 -1.765625 \r\nQ 40.046875 -1.765625 45.796875 8.59375 \r\nQ 51.46875 18.75 51.46875 42.578125 \r\nQ 51.46875 60.453125 44.046875 67.96875 \r\nQ 38.671875 73.4375 29.5 73.4375 \r\nQ 18.359375 73.4375 12.3125 67 \r\nQ 6.0625 60.359375 6.0625 47.859375 \r\nQ 6.0625 36.328125 13.1875 30.46875 \r\nQ 18.84375 25.78125 26.765625 25.78125 \r\nQ 33.6875 25.78125 38.875 28.71875 \r\nQ 42.96875 31.0625 45.40625 34.765625 \r\nQ 44.734375 19.140625 40.921875 12.015625 \r\nQ 36.53125 3.71875 26.65625 3.71875 \r\nQ 20.796875 3.71875 17.484375 7.03125 \r\nQ 14.65625 9.765625 13.96875 14.453125 \r\nQ 13.28125 17.484375 10.359375 17 \r\nQ 7.328125 16.40625 7.71875 13.578125 \r\nQ 8.5 5.859375 14.0625 1.859375 \r\nQ 18.953125 -1.765625 26.46875 -1.765625 \r\nz\r\n\" id=\"Gulim-57\"/>\r\n       </defs>\r\n       <use xlink:href=\"#Gulim-50\"/>\r\n       <use x=\"57.421875\" xlink:href=\"#Gulim-48\"/>\r\n       <use x=\"114.84375\" xlink:href=\"#Gulim-50\"/>\r\n       <use x=\"172.265625\" xlink:href=\"#Gulim-48\"/>\r\n       <use x=\"229.6875\" xlink:href=\"#Gulim-46\"/>\r\n       <use x=\"263.085938\" xlink:href=\"#Gulim-48\"/>\r\n       <use x=\"320.507812\" xlink:href=\"#Gulim-57\"/>\r\n      </g>\r\n     </g>\r\n    </g>\r\n    <g id=\"xtick_6\">\r\n     <g id=\"line2d_6\">\r\n      <g>\r\n       <use style=\"stroke:#000000;stroke-width:0.8;\" x=\"306.023295\" xlink:href=\"#mf93938f1ee\" y=\"224.64\"/>\r\n      </g>\r\n     </g>\r\n     <g id=\"text_6\">\r\n      <!-- 2020.11 -->\r\n      <g transform=\"translate(287.12642 238.98375)scale(0.1 -0.1)\">\r\n       <use xlink:href=\"#Gulim-50\"/>\r\n       <use x=\"57.421875\" xlink:href=\"#Gulim-48\"/>\r\n       <use x=\"114.84375\" xlink:href=\"#Gulim-50\"/>\r\n       <use x=\"172.265625\" xlink:href=\"#Gulim-48\"/>\r\n       <use x=\"229.6875\" xlink:href=\"#Gulim-46\"/>\r\n       <use x=\"263.085938\" xlink:href=\"#Gulim-49\"/>\r\n       <use x=\"320.507812\" xlink:href=\"#Gulim-49\"/>\r\n      </g>\r\n     </g>\r\n    </g>\r\n    <g id=\"xtick_7\">\r\n     <g id=\"line2d_7\">\r\n      <g>\r\n       <use style=\"stroke:#000000;stroke-width:0.8;\" x=\"356.750568\" xlink:href=\"#mf93938f1ee\" y=\"224.64\"/>\r\n      </g>\r\n     </g>\r\n    </g>\r\n    <g id=\"text_7\">\r\n     <!-- yyyymm -->\r\n     <g transform=\"translate(185.954688 251.754062)scale(0.1 -0.1)\">\r\n      <defs>\r\n       <path d=\"M 2.4375 49.8125 \r\nL 20.703125 3.71875 \r\nL 17.28125 -3.515625 \r\nQ 15.921875 -6.453125 14.84375 -7.515625 \r\nQ 13.578125 -8.796875 11.421875 -8.796875 \r\nL 7.03125 -8.796875 \r\nQ 5.5625 -8.796875 4.78125 -9.578125 \r\nQ 4.109375 -10.359375 4.109375 -11.421875 \r\nQ 4.109375 -12.5 4.78125 -13.28125 \r\nQ 5.5625 -14.15625 7.03125 -14.15625 \r\nL 11.421875 -14.15625 \r\nQ 15.4375 -14.15625 18.453125 -11.71875 \r\nQ 21.578125 -9.28125 23.828125 -4.296875 \r\nL 45.90625 50.484375 \r\nQ 46.390625 51.65625 45.703125 52.640625 \r\nQ 45.015625 53.515625 43.75 53.8125 \r\nQ 42.484375 54.109375 41.40625 53.71875 \r\nQ 40.046875 53.328125 39.65625 52.046875 \r\nL 24.03125 11.625 \r\nL 8.203125 52.34375 \r\nQ 7.71875 53.609375 6.546875 53.90625 \r\nQ 5.375 54.203125 4.203125 53.609375 \r\nQ 3.03125 53.125 2.4375 52.15625 \r\nQ 1.859375 51.078125 2.4375 49.8125 \r\nz\r\n\" id=\"Gulim-121\"/>\r\n       <path d=\"M 8.5 49.8125 \r\nL 8.5 1.265625 \r\nQ 8.5 -0.09375 9.375 -0.984375 \r\nQ 10.25 -1.765625 11.53125 -1.765625 \r\nQ 12.703125 -1.765625 13.578125 -0.984375 \r\nQ 14.546875 -0.09375 14.546875 1.265625 \r\nL 14.546875 39.15625 \r\nQ 17.78125 44.234375 21.390625 46.390625 \r\nQ 25 48.53125 30.171875 48.53125 \r\nQ 34.859375 48.53125 37.59375 45.796875 \r\nQ 40.046875 43.265625 40.046875 39.0625 \r\nL 40.046875 1.265625 \r\nQ 40.046875 -0.09375 40.921875 -0.984375 \r\nQ 41.796875 -1.765625 43.0625 -1.765625 \r\nQ 44.234375 -1.765625 45.125 -0.984375 \r\nQ 46.09375 -0.09375 46.09375 1.265625 \r\nL 46.09375 38.28125 \r\nQ 48.921875 43.75 52.4375 46.09375 \r\nQ 55.953125 48.53125 61.53125 48.53125 \r\nQ 66.40625 48.53125 69.046875 45.796875 \r\nQ 71.484375 43.265625 71.484375 39.0625 \r\nL 71.484375 1.265625 \r\nQ 71.484375 -0.09375 72.359375 -0.984375 \r\nQ 73.25 -1.765625 74.515625 -1.765625 \r\nQ 75.6875 -1.765625 76.5625 -0.984375 \r\nQ 77.546875 -0.09375 77.546875 1.265625 \r\nL 77.546875 40.046875 \r\nQ 77.546875 45.3125 73.53125 49.3125 \r\nQ 68.953125 53.90625 61.328125 53.90625 \r\nQ 55.765625 53.90625 51.265625 51.375 \r\nQ 47.171875 49.125 44.625 45.125 \r\nQ 42.875 48.828125 40.046875 50.984375 \r\nQ 36.03125 53.90625 29.984375 53.90625 \r\nQ 25.203125 53.90625 20.609375 51.375 \r\nQ 16.890625 49.3125 14.546875 46.1875 \r\nL 14.546875 49.8125 \r\nQ 14.546875 51.46875 13.578125 52.34375 \r\nQ 12.703125 53.21875 11.53125 53.21875 \r\nQ 10.25 53.21875 9.375 52.34375 \r\nQ 8.5 51.46875 8.5 49.8125 \r\nz\r\n\" id=\"Gulim-109\"/>\r\n      </defs>\r\n      <use xlink:href=\"#Gulim-121\"/>\r\n      <use x=\"50\" xlink:href=\"#Gulim-121\"/>\r\n      <use x=\"100\" xlink:href=\"#Gulim-121\"/>\r\n      <use x=\"150\" xlink:href=\"#Gulim-121\"/>\r\n      <use x=\"200\" xlink:href=\"#Gulim-109\"/>\r\n      <use x=\"286.132812\" xlink:href=\"#Gulim-109\"/>\r\n     </g>\r\n    </g>\r\n   </g>\r\n   <g id=\"matplotlib.axis_2\">\r\n    <g id=\"ytick_1\">\r\n     <g id=\"line2d_8\">\r\n      <defs>\r\n       <path d=\"M 0 0 \r\nL -3.5 0 \r\n\" id=\"m209b5246fb\" style=\"stroke:#000000;stroke-width:0.8;\"/>\r\n      </defs>\r\n      <g>\r\n       <use style=\"stroke:#000000;stroke-width:0.8;\" x=\"37.16875\" xlink:href=\"#m209b5246fb\" y=\"214.897257\"/>\r\n      </g>\r\n     </g>\r\n     <g id=\"text_8\">\r\n      <!-- 0 -->\r\n      <g transform=\"translate(24.426563 218.569132)scale(0.1 -0.1)\">\r\n       <use xlink:href=\"#Gulim-48\"/>\r\n      </g>\r\n     </g>\r\n    </g>\r\n    <g id=\"ytick_2\">\r\n     <g id=\"line2d_9\">\r\n      <g>\r\n       <use style=\"stroke:#000000;stroke-width:0.8;\" x=\"37.16875\" xlink:href=\"#m209b5246fb\" y=\"179.674034\"/>\r\n      </g>\r\n     </g>\r\n     <g id=\"text_9\">\r\n      <!-- 500 -->\r\n      <g transform=\"translate(12.942188 183.345909)scale(0.1 -0.1)\">\r\n       <use xlink:href=\"#Gulim-53\"/>\r\n       <use x=\"57.421875\" xlink:href=\"#Gulim-48\"/>\r\n       <use x=\"114.84375\" xlink:href=\"#Gulim-48\"/>\r\n      </g>\r\n     </g>\r\n    </g>\r\n    <g id=\"ytick_3\">\r\n     <g id=\"line2d_10\">\r\n      <g>\r\n       <use style=\"stroke:#000000;stroke-width:0.8;\" x=\"37.16875\" xlink:href=\"#m209b5246fb\" y=\"144.450811\"/>\r\n      </g>\r\n     </g>\r\n     <g id=\"text_10\">\r\n      <!-- 1000 -->\r\n      <g transform=\"translate(7.2 148.122686)scale(0.1 -0.1)\">\r\n       <use xlink:href=\"#Gulim-49\"/>\r\n       <use x=\"57.421875\" xlink:href=\"#Gulim-48\"/>\r\n       <use x=\"114.84375\" xlink:href=\"#Gulim-48\"/>\r\n       <use x=\"172.265625\" xlink:href=\"#Gulim-48\"/>\r\n      </g>\r\n     </g>\r\n    </g>\r\n    <g id=\"ytick_4\">\r\n     <g id=\"line2d_11\">\r\n      <g>\r\n       <use style=\"stroke:#000000;stroke-width:0.8;\" x=\"37.16875\" xlink:href=\"#m209b5246fb\" y=\"109.227588\"/>\r\n      </g>\r\n     </g>\r\n     <g id=\"text_11\">\r\n      <!-- 1500 -->\r\n      <g transform=\"translate(7.2 112.899463)scale(0.1 -0.1)\">\r\n       <use xlink:href=\"#Gulim-49\"/>\r\n       <use x=\"57.421875\" xlink:href=\"#Gulim-53\"/>\r\n       <use x=\"114.84375\" xlink:href=\"#Gulim-48\"/>\r\n       <use x=\"172.265625\" xlink:href=\"#Gulim-48\"/>\r\n      </g>\r\n     </g>\r\n    </g>\r\n    <g id=\"ytick_5\">\r\n     <g id=\"line2d_12\">\r\n      <g>\r\n       <use style=\"stroke:#000000;stroke-width:0.8;\" x=\"37.16875\" xlink:href=\"#m209b5246fb\" y=\"74.004365\"/>\r\n      </g>\r\n     </g>\r\n     <g id=\"text_12\">\r\n      <!-- 2000 -->\r\n      <g transform=\"translate(7.2 77.67624)scale(0.1 -0.1)\">\r\n       <use xlink:href=\"#Gulim-50\"/>\r\n       <use x=\"57.421875\" xlink:href=\"#Gulim-48\"/>\r\n       <use x=\"114.84375\" xlink:href=\"#Gulim-48\"/>\r\n       <use x=\"172.265625\" xlink:href=\"#Gulim-48\"/>\r\n      </g>\r\n     </g>\r\n    </g>\r\n    <g id=\"ytick_6\">\r\n     <g id=\"line2d_13\">\r\n      <g>\r\n       <use style=\"stroke:#000000;stroke-width:0.8;\" x=\"37.16875\" xlink:href=\"#m209b5246fb\" y=\"38.781142\"/>\r\n      </g>\r\n     </g>\r\n     <g id=\"text_13\">\r\n      <!-- 2500 -->\r\n      <g transform=\"translate(7.2 42.453017)scale(0.1 -0.1)\">\r\n       <use xlink:href=\"#Gulim-50\"/>\r\n       <use x=\"57.421875\" xlink:href=\"#Gulim-53\"/>\r\n       <use x=\"114.84375\" xlink:href=\"#Gulim-48\"/>\r\n       <use x=\"172.265625\" xlink:href=\"#Gulim-48\"/>\r\n      </g>\r\n     </g>\r\n    </g>\r\n   </g>\r\n   <g id=\"line2d_14\">\r\n    <path clip-path=\"url(#p483aaa2de7)\" d=\"M 52.386932 150.156973 \r\nL 77.750568 91.122851 \r\nL 103.114205 127.966342 \r\nL 128.477841 132.686254 \r\nL 153.841477 116.131339 \r\nL 179.205114 17.083636 \r\nL 204.56875 128.177682 \r\nL 229.932386 139.590006 \r\nL 255.296023 133.320272 \r\nL 280.659659 121.133037 \r\nL 306.023295 133.95429 \r\nL 331.386932 120.569465 \r\nL 356.750568 214.685917 \r\n\" style=\"fill:none;stroke:#1f77b4;stroke-linecap:square;stroke-width:1.5;\"/>\r\n   </g>\r\n   <g id=\"line2d_15\">\r\n    <path clip-path=\"url(#p483aaa2de7)\" d=\"M 52.386932 95.560977 \r\nL 77.750568 124.303127 \r\nL 103.114205 56.4632 \r\nL 128.477841 117.822054 \r\nL 153.841477 73.018114 \r\nL 179.205114 111.411427 \r\nL 204.56875 68.650435 \r\nL 229.932386 112.609017 \r\nL 255.296023 84.500885 \r\nL 280.659659 82.105706 \r\nL 306.023295 102.182943 \r\nL 331.386932 84.359992 \r\nL 356.750568 214.404131 \r\n\" style=\"fill:none;stroke:#ff7f0e;stroke-linecap:square;stroke-width:1.5;\"/>\r\n   </g>\r\n   <g id=\"line2d_16\">\r\n    <path clip-path=\"url(#p483aaa2de7)\" d=\"M 52.386932 214.756364 \r\nL 77.750568 214.333685 \r\nL 103.114205 214.404131 \r\nL 128.477841 210.318238 \r\nL 153.841477 213.136095 \r\nL 179.205114 211.586274 \r\nL 204.56875 211.586274 \r\nL 229.932386 213.136095 \r\nL 255.296023 213.629221 \r\nL 280.659659 213.770113 \r\nL 306.023295 212.502077 \r\nL 331.386932 213.276988 \r\n\" style=\"fill:none;stroke:#2ca02c;stroke-linecap:square;stroke-width:1.5;\"/>\r\n   </g>\r\n   <g id=\"patch_3\">\r\n    <path d=\"M 37.16875 224.64 \r\nL 37.16875 7.2 \r\n\" style=\"fill:none;stroke:#000000;stroke-linecap:square;stroke-linejoin:miter;stroke-width:0.8;\"/>\r\n   </g>\r\n   <g id=\"patch_4\">\r\n    <path d=\"M 371.96875 224.64 \r\nL 371.96875 7.2 \r\n\" style=\"fill:none;stroke:#000000;stroke-linecap:square;stroke-linejoin:miter;stroke-width:0.8;\"/>\r\n   </g>\r\n   <g id=\"patch_5\">\r\n    <path d=\"M 37.16875 224.64 \r\nL 371.96875 224.64 \r\n\" style=\"fill:none;stroke:#000000;stroke-linecap:square;stroke-linejoin:miter;stroke-width:0.8;\"/>\r\n   </g>\r\n   <g id=\"patch_6\">\r\n    <path d=\"M 37.16875 7.2 \r\nL 371.96875 7.2 \r\n\" style=\"fill:none;stroke:#000000;stroke-linecap:square;stroke-linejoin:miter;stroke-width:0.8;\"/>\r\n   </g>\r\n  </g>\r\n </g>\r\n <defs>\r\n  <clipPath id=\"p483aaa2de7\">\r\n   <rect height=\"217.44\" width=\"334.8\" x=\"37.16875\" y=\"7.2\"/>\r\n  </clipPath>\r\n </defs>\r\n</svg>\r\n",
      "image/png": "[encoded data removed]"
     },
     "metadata": {
      "needs_background": "light"
     }
    }
   ],
   "source": [
    "## 그래프 그리기\n",
    "df_groupby.plot()\n",
    "df_soju_groupby.plot()\n",
    "df_gorangju_groupby.plot()"
   ]
  },
  {
   "cell_type": "code",
   "execution_count": 108,
   "id": "1ca6e5e8",
   "metadata": {},
   "outputs": [],
   "source": [
    "# 저장\n",
    "# df.to_csv('네이버뉴스결과피터링.csv', index=False)"
   ]
  }
 ],
 "metadata": {
  "kernelspec": {
   "name": "python3",
   "display_name": "Python 3.8.10 64-bit ('base': conda)"
  },
  "language_info": {
   "codemirror_mode": {
    "name": "ipython",
    "version": 3
   },
   "file_extension": ".py",
   "mimetype": "text/x-python",
   "name": "python",
   "nbconvert_exporter": "python",
   "pygments_lexer": "ipython3",
   "version": "3.8.10"
  },
  "interpreter": {
   "hash": "b3590830984a60dbb78bd438b56986909e2a067f6af5d702b6354b1062437937"
  }
 },
 "nbformat": 4,
 "nbformat_minor": 5
}