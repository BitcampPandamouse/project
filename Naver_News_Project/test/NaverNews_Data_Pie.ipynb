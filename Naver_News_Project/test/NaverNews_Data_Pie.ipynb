{
 "cells": [
  {
   "cell_type": "code",
   "execution_count": 1,
   "metadata": {},
   "outputs": [],
   "source": [
    "import pandas as pd\n",
    "import matplotlib.pyplot as plt\n",
    "import statsmodels.api as sm\n",
    "import seaborn as sns\n",
    "import os\n",
    "import matplotlib as mpl\n",
    "import matplotlib.pyplot as plt\n",
    "import matplotlib.font_manager as fm"
   ]
  },
  {
   "cell_type": "code",
   "execution_count": 2,
   "metadata": {},
   "outputs": [],
   "source": [
    "df = pd.DataFrame()"
   ]
  },
  {
   "cell_type": "code",
   "execution_count": 3,
   "metadata": {},
   "outputs": [],
   "source": [
    "folder = ['고량주','럼','막걸리','맥주','보드카','소주','와인','위스키','전통주','지역소주']\n",
    "for a in folder:\n",
    "    data = pd.read_csv('data/Filter_Data/네이버%s뉴스_2019.csv'%(str(a)))"
   ]
  },
  {
   "cell_type": "code",
   "execution_count": 1,
   "metadata": {},
   "outputs": [
    {
     "output_type": "error",
     "ename": "IndentationError",
     "evalue": "expected an indented block (<ipython-input-1-d20adc4c951b>, line 12)",
     "traceback": [
      "\u001b[1;36m  File \u001b[1;32m\"<ipython-input-1-d20adc4c951b>\"\u001b[1;36m, line \u001b[1;32m12\u001b[0m\n\u001b[1;33m    df = pd.DataFrame()\u001b[0m\n\u001b[1;37m    ^\u001b[0m\n\u001b[1;31mIndentationError\u001b[0m\u001b[1;31m:\u001b[0m expected an indented block\n"
     ]
    }
   ],
   "source": [
    "import pandas as pd\n",
    "import matplotlib.pyplot as plt\n",
    "import numpy as np\n",
    "from itertools import count\n",
    "\n",
    "plt.rcParams['font.family'] = 'NanumGothic' # 폰트 설정\n",
    "\n",
    "folder = ['고량주','럼','막걸리','맥주','보드카','소주','와인','위스키','전통주','지역소주']\n",
    "years = [2019,2020]\n",
    "for year in years:\n",
    "    for number in range(len(folder)):\n",
    "    df = pd.DataFrame()\n",
    "        for a in folder:\n",
    "            data = pd.read_csv('data/Filter_Data/네이버%s뉴스_%s.csv'%(str(a)),year)\n",
    "            data_groupby = data.groupby(['yyyymm']).agg('size')\n",
    "            s = data_groupby.iloc[number:(number+1)]\n",
    "            new_Data = pd.DataFrame(s)\n",
    "            df = pd.concat([df,new_Data])\n",
    "            \n",
    "            # df_reset=df.reset_index(drop=True)\n",
    "            # list_from_df = df_reset.values.tolist()\n",
    "            \n",
    "            #list_from_df = np.array([df_reset])\n",
    "        plt.pie(x=list(df[0]),labels = folder,autopct='%.1f%%')\n",
    "        plt.ylabel=str(number)+'월'\n",
    "        plt.show()\n",
    "        plt.clf()\n"
   ]
  },
  {
   "cell_type": "code",
   "execution_count": null,
   "metadata": {},
   "outputs": [],
   "source": []
  }
 ],
 "metadata": {
  "interpreter": {
   "hash": "b3590830984a60dbb78bd438b56986909e2a067f6af5d702b6354b1062437937"
  },
  "kernelspec": {
   "name": "python3",
   "display_name": "Python 3.8.10 64-bit ('base': conda)"
  },
  "language_info": {
   "codemirror_mode": {
    "name": "ipython",
    "version": 3
   },
   "file_extension": ".py",
   "mimetype": "text/x-python",
   "name": "python",
   "nbconvert_exporter": "python",
   "pygments_lexer": "ipython3",
   "version": "3.8.10"
  }
 },
 "nbformat": 4,
 "nbformat_minor": 2
}