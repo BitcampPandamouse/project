{
 "metadata": {
  "language_info": {
   "codemirror_mode": {
    "name": "ipython",
    "version": 3
   },
   "file_extension": ".py",
   "mimetype": "text/x-python",
   "name": "python",
   "nbconvert_exporter": "python",
   "pygments_lexer": "ipython3",
   "version": "3.8.10"
  },
  "orig_nbformat": 4,
  "kernelspec": {
   "name": "python3",
   "display_name": "Python 3.8.10 64-bit ('base': conda)"
  },
  "interpreter": {
   "hash": "b3590830984a60dbb78bd438b56986909e2a067f6af5d702b6354b1062437937"
  }
 },
 "nbformat": 4,
 "nbformat_minor": 2,
 "cells": [
  {
   "cell_type": "code",
   "execution_count": 20,
   "metadata": {},
   "outputs": [],
   "source": [
    "import pandas as pd\n",
    "import matplotlib.pyplot as plt\n",
    "import statsmodels.api as sm\n",
    "import seaborn as sns\n",
    "import os\n",
    "import matplotlib as mpl\n",
    "import matplotlib.pyplot as plt\n",
    "import matplotlib.font_manager as fm"
   ]
  },
  {
   "cell_type": "code",
   "execution_count": 21,
   "metadata": {},
   "outputs": [],
   "source": [
    "df = pd.DataFrame()"
   ]
  },
  {
   "cell_type": "code",
   "execution_count": 22,
   "metadata": {},
   "outputs": [],
   "source": [
    "folder = ['고량주','럼','막걸리','맥주','보드카','소주','와인','위스키','전통주','지역소주']\n",
    "for a in folder:\n",
    "    data = pd.read_csv('data/Filter_Data/네이버%s뉴스_2019.csv'%(str(a)))\n",
    "    "
   ]
  },
  {
   "cell_type": "code",
   "execution_count": 59,
   "metadata": {},
   "outputs": [
    {
     "output_type": "execute_result",
     "data": {
      "text/plain": [
       "      0  name\n",
       "0    41     1\n",
       "1    50     1\n",
       "2  1016     1\n",
       "3  3268     1\n",
       "4   183     1\n",
       "5  2218     1\n",
       "6  3432     1\n",
       "7   611     1\n",
       "8   331     1\n",
       "9   493     1"
      ],
      "text/html": "<div>\n<style scoped>\n    .dataframe tbody tr th:only-of-type {\n        vertical-align: middle;\n    }\n\n    .dataframe tbody tr th {\n        vertical-align: top;\n    }\n\n    .dataframe thead th {\n        text-align: right;\n    }\n</style>\n<table border=\"1\" class=\"dataframe\">\n  <thead>\n    <tr style=\"text-align: right;\">\n      <th></th>\n      <th>0</th>\n      <th>name</th>\n    </tr>\n  </thead>\n  <tbody>\n    <tr>\n      <th>0</th>\n      <td>41</td>\n      <td>1</td>\n    </tr>\n    <tr>\n      <th>1</th>\n      <td>50</td>\n      <td>1</td>\n    </tr>\n    <tr>\n      <th>2</th>\n      <td>1016</td>\n      <td>1</td>\n    </tr>\n    <tr>\n      <th>3</th>\n      <td>3268</td>\n      <td>1</td>\n    </tr>\n    <tr>\n      <th>4</th>\n      <td>183</td>\n      <td>1</td>\n    </tr>\n    <tr>\n      <th>5</th>\n      <td>2218</td>\n      <td>1</td>\n    </tr>\n    <tr>\n      <th>6</th>\n      <td>3432</td>\n      <td>1</td>\n    </tr>\n    <tr>\n      <th>7</th>\n      <td>611</td>\n      <td>1</td>\n    </tr>\n    <tr>\n      <th>8</th>\n      <td>331</td>\n      <td>1</td>\n    </tr>\n    <tr>\n      <th>9</th>\n      <td>493</td>\n      <td>1</td>\n    </tr>\n  </tbody>\n</table>\n</div>"
     },
     "metadata": {},
     "execution_count": 59
    }
   ],
   "source": [
    "import pandas as pd\n",
    "df = pd.DataFrame()\n",
    "folder = ['고량주','럼','막걸리','맥주','보드카','소주','와인','위스키','전통주','지역소주']\n",
    "\n",
    "for a in folder:\n",
    "    data = pd.read_csv('data/Filter_Data/네이버%s뉴스_2019.csv'%(str(a)))\n",
    "    data_groupby = data.groupby(['yyyymm']).agg('size')\n",
    "    s = data_groupby.iloc[0:1]\n",
    "    new_Data = pd.DataFrame(s)\n",
    "    df = pd.concat([df,new_Data])\n",
    "    df_reset=df.reset_index(drop=True)\n",
    "    df_reset.\n",
    "    df_reset['name'] = 1\n",
    "df_reset\n",
    "# plt.pie(df_reset,autopct='%.1f%%')\n",
    "# plt.show()"
   ]
  }
 ]
}