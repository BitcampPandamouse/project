{
 "metadata": {
  "language_info": {
   "codemirror_mode": {
    "name": "ipython",
    "version": 3
   },
   "file_extension": ".py",
   "mimetype": "text/x-python",
   "name": "python",
   "nbconvert_exporter": "python",
   "pygments_lexer": "ipython3",
   "version": "3.8.10"
  },
  "orig_nbformat": 4,
  "kernelspec": {
   "name": "python3",
   "display_name": "Python 3.8.10 64-bit ('base': conda)"
  },
  "interpreter": {
   "hash": "b3590830984a60dbb78bd438b56986909e2a067f6af5d702b6354b1062437937"
  }
 },
 "nbformat": 4,
 "nbformat_minor": 2,
 "cells": [
  {
   "cell_type": "code",
   "execution_count": 113,
   "metadata": {},
   "outputs": [],
   "source": [
    "import pandas as pd\n",
    "import matplotlib.pyplot as plt\n",
    "import statsmodels.api as sm\n",
    "import seaborn as sns\n",
    "import os\n",
    "import matplotlib as mpl\n",
    "import matplotlib.pyplot as plt\n",
    "import matplotlib.font_manager as fm"
   ]
  },
  {
   "cell_type": "code",
   "execution_count": 127,
   "metadata": {},
   "outputs": [
    {
     "output_type": "execute_result",
     "data": {
      "text/plain": [
       "Empty DataFrame\n",
       "Columns: [count]\n",
       "Index: []"
      ],
      "text/html": "<div>\n<style scoped>\n    .dataframe tbody tr th:only-of-type {\n        vertical-align: middle;\n    }\n\n    .dataframe tbody tr th {\n        vertical-align: top;\n    }\n\n    .dataframe thead th {\n        text-align: right;\n    }\n</style>\n<table border=\"1\" class=\"dataframe\">\n  <thead>\n    <tr style=\"text-align: right;\">\n      <th></th>\n      <th>count</th>\n    </tr>\n    <tr>\n      <th>yyyymm</th>\n      <th></th>\n    </tr>\n  </thead>\n  <tbody>\n  </tbody>\n</table>\n</div>"
     },
     "metadata": {},
     "execution_count": 127
    }
   ],
   "source": [
    "df = pd.DataFrame(columns=['name','count'])\n",
    "# data_rum = pd.read_csv('data/Filter_Data/네이버럼뉴스_2019.csv')\n",
    "data_makguli = pd.read_csv('data/Filter_Data/네이버막걸리뉴스_2019.csv')\n",
    "# data_gorangju = pd.read_csv('data/Filter_Data/네이버고량주뉴스_2019.csv')\n",
    "data_makguli_groupby = data_makguli.groupby(['yyyymm']).agg('size')\n",
    "\n",
    "a = pd.DataFrame(data =data_makguli_groupby[:3],columns=['count'])\n",
    "a\n",
    "\n",
    "#df.append(data = [[data_makguli_groupby.iloc[0:1]]])\n",
    "# df['name'] = str('고량주')\n",
    "# plt.pie(df.count)\n",
    "# df = df.unstack\n",
    "#df\n",
    "# data = pd.read_csv('data/Filter_Data/네이버%s뉴스_2019.csv'%(str(a)))\n",
    "# df['count'] = data_groupby['num'].iloc[1:2]\n",
    "# df"
   ]
  },
  {
   "cell_type": "code",
   "execution_count": 101,
   "metadata": {},
   "outputs": [
    {
     "output_type": "execute_result",
     "data": {
      "text/plain": [
       "yyyymm\n",
       "2019.01    493\n",
       "2019.02    241\n",
       "2019.03    427\n",
       "2019.04    418\n",
       "2019.05    783\n",
       "2019.06    663\n",
       "2019.07    664\n",
       "2019.08    448\n",
       "2019.09    421\n",
       "2019.10    430\n",
       "2019.11    570\n",
       "2019.12    474\n",
       "dtype: int64"
      ]
     },
     "metadata": {},
     "execution_count": 101
    }
   ],
   "source": [
    "folder = ['고량주','럼','막걸리','맥주','보드카','소주','와인','위스키','전통주','지역소주']\n",
    "for a in folder:\n",
    "    df = pd.DataFrame()\n",
    "    data = pd.read_csv('data/Filter_Data/네이버%s뉴스_2019.csv'%(str(a)))\n",
    "    data_groupby = data.groupby(['yyyymm']).agg('size')\n",
    "data_groupby\n",
    "    #df['count'] = data_groupby.iloc[0:1]\n",
    "    # df = df['name'] = '%s'%folder\n",
    "    # plt.pie(df,autopct='%.1f%%')\n",
    "    # plt.show()"
   ]
  }
 ]
}